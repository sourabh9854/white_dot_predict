{
 "cells": [
  {
   "cell_type": "code",
   "execution_count": 1,
   "metadata": {},
   "outputs": [
    {
     "data": {
      "text/plain": [
       "True"
      ]
     },
     "execution_count": 1,
     "metadata": {},
     "output_type": "execute_result"
    }
   ],
   "source": [
    "import cv2\n",
    "from PIL import Image\n",
    "import csv\n",
    "import os\n",
    "import numpy as np\n",
    "import matplotlib.pyplot as plt\n",
    "import pandas as pd\n",
    "from sklearn.model_selection import train_test_split\n",
    "import tensorflow\n",
    "from tensorflow.keras import layers, models\n",
    "from tensorflow.keras.preprocessing import image\n",
    "from dotenv import load_dotenv\n",
    "import joblib\n",
    "load_dotenv()"
   ]
  },
  {
   "cell_type": "code",
   "execution_count": 2,
   "metadata": {},
   "outputs": [
    {
     "data": {
      "text/plain": [
       "'c:\\\\Users\\\\soura\\\\deepedge\\\\white_dot_predict'"
      ]
     },
     "execution_count": 2,
     "metadata": {},
     "output_type": "execute_result"
    }
   ],
   "source": [
    "os.getcwd()"
   ]
  },
  {
   "cell_type": "code",
   "execution_count": 3,
   "metadata": {},
   "outputs": [],
   "source": [
    "try:\n",
    "    # Retrieve the number of images to be generated from environment variable\n",
    "    num_images = int(os.getenv(\"num_images\"))\n",
    "    \n",
    "    # Retrieve the filename of the CSV file from environment variable\n",
    "    csv_filename = os.getenv(\"CSV_FILENAME\")\n",
    "    \n",
    "    # Check if the CSV filename has the \".csv\" extension\n",
    "    if \".csv\" not in csv_filename:\n",
    "        raise Exception(\"INVALID_FILE_FORMAT\")\n",
    "    \n",
    "    # Retrieve the location where the CSV file should be stored from environment variable\n",
    "    location = os.getenv(\"LOCATION\")\n",
    "    \n",
    "    # If location is not specified, set it to the current working directory\n",
    "    if location == \"\":\n",
    "        location = os.getcwd()\n",
    "    #Retrieve model name from enviroment varaible\n",
    "    model_name = os.getenv(\"model_name\")\n",
    "except Exception as e:\n",
    "    if \"invalid literal for int()\" in str(e):\n",
    "        print(\"Please define valid int value for the number of images to be generated in .env file.\")\n",
    "    else:\n",
    "        print(str(e))\n"
   ]
  },
  {
   "cell_type": "code",
   "execution_count": 4,
   "metadata": {},
   "outputs": [
    {
     "name": "stdout",
     "output_type": "stream",
     "text": [
      "Generated 20000 images and saved data to c:\\Users\\soura\\deepedge\\white_dot_predict\\image_dataset.csv\n"
     ]
    }
   ],
   "source": [
    "def generate_dataset(image_size=50):\n",
    "    global csv_filepath,image_folder\n",
    "    image = np.zeros((image_size, image_size), dtype=np.uint8)\n",
    "    x = np.random.randint(0, image_size)\n",
    "    y = np.random.randint(0, image_size)\n",
    "    image[y, x] = 255\n",
    "    return image, x, y  # Return x,y cordinate where white spot is\n",
    "num_images = num_images\n",
    "csv_filename = csv_filename\n",
    "location = location \n",
    "csv_filepath = os.path.join(location, csv_filename)\n",
    "image_folder = os.path.join(location, 'images') \n",
    "\n",
    "# Check if the directory exists, if not, create it\n",
    "if not os.path.exists(image_folder):\n",
    "    os.makedirs(image_folder)\n",
    "\n",
    "# Open the CSV file for writing\n",
    "with open(csv_filepath, 'w', newline='') as csvfile:\n",
    "    # Create a CSV writer object\n",
    "    File = csv.writer(csvfile)\n",
    "    # Write header row\n",
    "    File.writerow([\"Image\", \"X-Coordinate\", \"Y-Coordinate\",\"Img_path\"])\n",
    "\n",
    "    # Generate images and save data to CSV\n",
    "    for i in range(num_images):\n",
    "        image, x, y = generate_dataset()  \n",
    "        image_filename = f\"image_{i:05d}.png\"\n",
    "        image_path = os.path.join(image_folder, image_filename)\n",
    "        # Save the image\n",
    "        Image.fromarray(image).save(image_path)                                 \n",
    "        # Write image filename , coordinates and image path to CSV\n",
    "        File.writerow([image_filename, x, y, image_path])\n",
    "\n",
    "print(f\"Generated {num_images} images and saved data to {csv_filepath}\")"
   ]
  },
  {
   "cell_type": "markdown",
   "metadata": {},
   "source": [
    "Load the dataset"
   ]
  },
  {
   "cell_type": "code",
   "execution_count": 5,
   "metadata": {},
   "outputs": [
    {
     "data": {
      "text/html": [
       "<div>\n",
       "<style scoped>\n",
       "    .dataframe tbody tr th:only-of-type {\n",
       "        vertical-align: middle;\n",
       "    }\n",
       "\n",
       "    .dataframe tbody tr th {\n",
       "        vertical-align: top;\n",
       "    }\n",
       "\n",
       "    .dataframe thead th {\n",
       "        text-align: right;\n",
       "    }\n",
       "</style>\n",
       "<table border=\"1\" class=\"dataframe\">\n",
       "  <thead>\n",
       "    <tr style=\"text-align: right;\">\n",
       "      <th></th>\n",
       "      <th>Image</th>\n",
       "      <th>X-Coordinate</th>\n",
       "      <th>Y-Coordinate</th>\n",
       "      <th>Img_path</th>\n",
       "    </tr>\n",
       "  </thead>\n",
       "  <tbody>\n",
       "    <tr>\n",
       "      <th>0</th>\n",
       "      <td>image_00000.png</td>\n",
       "      <td>46</td>\n",
       "      <td>21</td>\n",
       "      <td>c:\\Users\\soura\\deepedge\\white_dot_predict\\imag...</td>\n",
       "    </tr>\n",
       "    <tr>\n",
       "      <th>1</th>\n",
       "      <td>image_00001.png</td>\n",
       "      <td>45</td>\n",
       "      <td>0</td>\n",
       "      <td>c:\\Users\\soura\\deepedge\\white_dot_predict\\imag...</td>\n",
       "    </tr>\n",
       "    <tr>\n",
       "      <th>2</th>\n",
       "      <td>image_00002.png</td>\n",
       "      <td>44</td>\n",
       "      <td>42</td>\n",
       "      <td>c:\\Users\\soura\\deepedge\\white_dot_predict\\imag...</td>\n",
       "    </tr>\n",
       "    <tr>\n",
       "      <th>3</th>\n",
       "      <td>image_00003.png</td>\n",
       "      <td>3</td>\n",
       "      <td>17</td>\n",
       "      <td>c:\\Users\\soura\\deepedge\\white_dot_predict\\imag...</td>\n",
       "    </tr>\n",
       "    <tr>\n",
       "      <th>4</th>\n",
       "      <td>image_00004.png</td>\n",
       "      <td>1</td>\n",
       "      <td>47</td>\n",
       "      <td>c:\\Users\\soura\\deepedge\\white_dot_predict\\imag...</td>\n",
       "    </tr>\n",
       "  </tbody>\n",
       "</table>\n",
       "</div>"
      ],
      "text/plain": [
       "             Image  X-Coordinate  Y-Coordinate  \\\n",
       "0  image_00000.png            46            21   \n",
       "1  image_00001.png            45             0   \n",
       "2  image_00002.png            44            42   \n",
       "3  image_00003.png             3            17   \n",
       "4  image_00004.png             1            47   \n",
       "\n",
       "                                            Img_path  \n",
       "0  c:\\Users\\soura\\deepedge\\white_dot_predict\\imag...  \n",
       "1  c:\\Users\\soura\\deepedge\\white_dot_predict\\imag...  \n",
       "2  c:\\Users\\soura\\deepedge\\white_dot_predict\\imag...  \n",
       "3  c:\\Users\\soura\\deepedge\\white_dot_predict\\imag...  \n",
       "4  c:\\Users\\soura\\deepedge\\white_dot_predict\\imag...  "
      ]
     },
     "execution_count": 5,
     "metadata": {},
     "output_type": "execute_result"
    }
   ],
   "source": [
    "data= pd.read_csv(csv_filepath)\n",
    "data.head()"
   ]
  },
  {
   "cell_type": "markdown",
   "metadata": {},
   "source": [
    "Data preprocessing : \n",
    "By preprocessing we get set of images represented as NumPy arrays and their corresponding labels (coordinates). "
   ]
  },
  {
   "cell_type": "code",
   "execution_count": 6,
   "metadata": {},
   "outputs": [],
   "source": [
    "def preprocess_data(data):\n",
    "    images = np.array([cv2.imread(path, cv2.IMREAD_GRAYSCALE) for path in data['Img_path']])\n",
    "    labels = data[['X-Coordinate', 'Y-Coordinate']].values\n",
    "    return images, labels\n",
    "images, labels = preprocess_data(data)"
   ]
  },
  {
   "cell_type": "markdown",
   "metadata": {},
   "source": [
    "Split the data into training and validation sets"
   ]
  },
  {
   "cell_type": "code",
   "execution_count": 7,
   "metadata": {},
   "outputs": [],
   "source": [
    "# Splitting data into train and test sets (80% train, 20% test)\n",
    "train_images, test_images, train_labels, test_labels = train_test_split(images, labels, test_size=0.2, random_state=42)\n",
    "\n",
    "\n",
    "#Further splitting training set into train and validation sets (75% train, 25% validation)\n",
    "train_images, val_images, train_labels, val_labels = train_test_split(train_images, train_labels, test_size=0.25, random_state=42)"
   ]
  },
  {
   "cell_type": "markdown",
   "metadata": {},
   "source": [
    "Define the CNN model .\n",
    "As it is Regression problem , will use Linear activation function in output layer"
   ]
  },
  {
   "cell_type": "code",
   "execution_count": 8,
   "metadata": {},
   "outputs": [],
   "source": [
    "model = models.Sequential([\n",
    "    layers.Conv2D(32, (3, 3), activation='relu', input_shape=(50, 50, 1)), #input layer taking (50,50) image as input \n",
    "    layers.MaxPooling2D((2, 2)),\n",
    "    layers.Conv2D(64, (3, 3), activation='relu'),\n",
    "    layers.MaxPooling2D((2, 2)),\n",
    "    layers.Conv2D(64, (3, 3), activation='relu'),\n",
    "    layers.Flatten(),\n",
    "    layers.Dense(64, activation='relu'),\n",
    "    layers.Dense(2, activation='linear')  # Output layer with linear activation for (x, y) coordinates\n",
    "])"
   ]
  },
  {
   "cell_type": "markdown",
   "metadata": {},
   "source": [
    "Compile the model"
   ]
  },
  {
   "cell_type": "code",
   "execution_count": 9,
   "metadata": {},
   "outputs": [],
   "source": [
    "model.compile(loss='mse', optimizer='adam', metrics=['accuracy'])"
   ]
  },
  {
   "cell_type": "code",
   "execution_count": 10,
   "metadata": {},
   "outputs": [
    {
     "name": "stdout",
     "output_type": "stream",
     "text": [
      "Epoch 1/10\n",
      "375/375 [==============================] - 20s 50ms/step - loss: 24.7124 - accuracy: 0.9626 - val_loss: 0.9949 - val_accuracy: 0.9783\n",
      "Epoch 2/10\n",
      "375/375 [==============================] - 19s 51ms/step - loss: 0.6931 - accuracy: 0.9811 - val_loss: 0.6897 - val_accuracy: 0.9800\n",
      "Epoch 3/10\n",
      "375/375 [==============================] - 19s 49ms/step - loss: 0.5569 - accuracy: 0.9806 - val_loss: 0.4840 - val_accuracy: 0.9870\n",
      "Epoch 4/10\n",
      "375/375 [==============================] - 19s 51ms/step - loss: 0.4680 - accuracy: 0.9864 - val_loss: 0.4259 - val_accuracy: 0.9887\n",
      "Epoch 5/10\n",
      "375/375 [==============================] - 19s 50ms/step - loss: 0.3131 - accuracy: 0.9868 - val_loss: 0.2815 - val_accuracy: 0.9833\n",
      "Epoch 6/10\n",
      "375/375 [==============================] - 19s 50ms/step - loss: 0.5390 - accuracy: 0.9876 - val_loss: 0.1241 - val_accuracy: 0.9887\n",
      "Epoch 7/10\n",
      "375/375 [==============================] - 19s 50ms/step - loss: 0.2777 - accuracy: 0.9902 - val_loss: 0.8289 - val_accuracy: 0.9900\n",
      "Epoch 8/10\n",
      "375/375 [==============================] - 19s 50ms/step - loss: 0.5894 - accuracy: 0.9857 - val_loss: 0.1420 - val_accuracy: 0.9900\n",
      "Epoch 9/10\n",
      "375/375 [==============================] - 19s 50ms/step - loss: 0.1039 - accuracy: 0.9893 - val_loss: 0.1428 - val_accuracy: 0.9872\n",
      "Epoch 10/10\n",
      "375/375 [==============================] - 19s 51ms/step - loss: 0.3137 - accuracy: 0.9877 - val_loss: 0.1497 - val_accuracy: 0.9872\n"
     ]
    }
   ],
   "source": [
    "history=model.fit(x=train_images, y=train_labels, epochs=10, validation_data=(val_images, val_labels))"
   ]
  },
  {
   "cell_type": "code",
   "execution_count": 11,
   "metadata": {},
   "outputs": [
    {
     "data": {
      "image/png": "[encoded data removed]",
      "text/plain": [
       "<Figure size 640x480 with 1 Axes>"
      ]
     },
     "metadata": {},
     "output_type": "display_data"
    }
   ],
   "source": [
    "train_loss = history.history['loss']\n",
    "val_loss = history.history['val_loss']\n",
    "\n",
    "# Plotting\n",
    "epochs = range(1, len(train_loss) + 1)\n",
    "plt.plot(epochs, train_loss, 'bo', label='Training Loss')\n",
    "plt.plot(epochs, val_loss, 'b', label='Validation Loss')\n",
    "plt.title('Training and Validation Loss')\n",
    "plt.xlabel('Epochs')\n",
    "plt.ylabel('Loss')\n",
    "plt.legend()\n",
    "plt.show()"
   ]
  },
  {
   "cell_type": "code",
   "execution_count": 15,
   "metadata": {},
   "outputs": [
    {
     "data": {
      "image/png": "[encoded data removed]",
      "text/plain": [
       "<Figure size 640x480 with 1 Axes>"
      ]
     },
     "metadata": {},
     "output_type": "display_data"
    }
   ],
   "source": [
    "train_loss = history.history['accuracy']\n",
    "val_loss = history.history['val_accuracy']\n",
    "\n",
    "# Plotting\n",
    "epochs = range(1, len(train_loss) + 1)\n",
    "plt.plot(epochs, train_loss, 'bo', label='Training Accuracy')\n",
    "plt.plot(epochs, val_loss, 'b', label='Validation Accuracy')\n",
    "plt.title('Training and Validation Accuracy')\n",
    "plt.xlabel('Epochs')\n",
    "plt.ylabel('Loss')\n",
    "plt.legend()\n",
    "plt.show()"
   ]
  },
  {
   "cell_type": "markdown",
   "metadata": {},
   "source": [
    "Evaluate the model on the test set"
   ]
  },
  {
   "cell_type": "code",
   "execution_count": 13,
   "metadata": {},
   "outputs": [
    {
     "name": "stdout",
     "output_type": "stream",
     "text": [
      "125/125 [==============================] - 2s 14ms/step - loss: 0.1552 - accuracy: 0.9865\n",
      "Test Accuracy: 0.9865000247955322\n"
     ]
    }
   ],
   "source": [
    "test_loss, test_accuracy = model.evaluate(test_images, test_labels)\n",
    "print(f'Test Accuracy: {test_accuracy}')\n"
   ]
  },
  {
   "cell_type": "markdown",
   "metadata": {},
   "source": [
    "\n",
    "Save the trained model"
   ]
  },
  {
   "cell_type": "code",
   "execution_count": 14,
   "metadata": {},
   "outputs": [
    {
     "name": "stdout",
     "output_type": "stream",
     "text": [
      "Keras weights file (<HDF5 file \"variables.h5\" (mode r+)>) saving:\n",
      "...layers\\conv2d\n",
      "......vars\n",
      ".........0\n",
      ".........1\n",
      "...layers\\conv2d_1\n",
      "......vars\n",
      ".........0\n",
      ".........1\n",
      "...layers\\conv2d_2\n",
      "......vars\n",
      ".........0\n",
      ".........1\n",
      "...layers\\dense\n",
      "......vars\n",
      ".........0\n",
      ".........1\n",
      "...layers\\dense_1\n",
      "......vars\n",
      ".........0\n",
      ".........1\n",
      "...layers\\flatten\n",
      "......vars\n",
      "...layers\\max_pooling2d\n",
      "......vars\n",
      "...layers\\max_pooling2d_1\n",
      "......vars\n",
      "...metrics\\mean\n",
      "......vars\n",
      ".........0\n",
      ".........1\n",
      "...metrics\\mean_metric_wrapper\n",
      "......vars\n",
      ".........0\n",
      ".........1\n",
      "...optimizer\n",
      "......vars\n",
      ".........0\n",
      ".........1\n",
      ".........10\n",
      ".........11\n",
      ".........12\n",
      ".........13\n",
      ".........14\n",
      ".........15\n",
      ".........16\n",
      ".........17\n",
      ".........18\n",
      ".........19\n",
      ".........2\n",
      ".........20\n",
      ".........3\n",
      ".........4\n",
      ".........5\n",
      ".........6\n",
      ".........7\n",
      ".........8\n",
      ".........9\n",
      "...vars\n",
      "Keras model archive saving:\n",
      "File Name                                             Modified             Size\n",
      "config.json                                    2024-04-23 15:26:35         3614\n",
      "metadata.json                                  2024-04-23 15:26:35           64\n",
      "variables.h5                                   2024-04-23 15:26:36      4688520\n"
     ]
    },
    {
     "data": {
      "text/plain": [
       "['model.pkl']"
      ]
     },
     "execution_count": 14,
     "metadata": {},
     "output_type": "execute_result"
    }
   ],
   "source": [
    "joblib.dump(model,model_name)"
   ]
  },
  {
   "cell_type": "code",
   "execution_count": null,
   "metadata": {},
   "outputs": [],
   "source": []
  }
 ],
 "metadata": {
  "kernelspec": {
   "display_name": "env",
   "language": "python",
   "name": "python3"
  },
  "language_info": {
   "codemirror_mode": {
    "name": "ipython",
    "version": 3
   },
   "file_extension": ".py",
   "mimetype": "text/x-python",
   "name": "python",
   "nbconvert_exporter": "python",
   "pygments_lexer": "ipython3",
   "version": "3.8.3"
  }
 },
 "nbformat": 4,
 "nbformat_minor": 2
}
